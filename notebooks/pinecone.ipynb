{
 "cells": [
  {
   "cell_type": "code",
   "execution_count": 9,
   "metadata": {},
   "outputs": [],
   "source": [
    "from pinecone import Pinecone, ServerlessSpec\n",
    "import os\n",
    "from dotenv import load_dotenv\n",
    "\n",
    "load_dotenv()\n",
    "api_key = os.getenv(\"PINECONE_API_KEY\")\n",
    "\n",
    "\n",
    "pc = Pinecone(api_key=api_key)\n",
    "\n"
   ]
  },
  {
   "cell_type": "code",
   "execution_count": 10,
   "metadata": {},
   "outputs": [],
   "source": [
    "# Create a dense index with integrated embedding\n",
    "index_name = \"quickstart-py\"\n",
    "if not pc.has_index(index_name):\n",
    "    pc.create_index_for_model(\n",
    "        name=index_name,\n",
    "        cloud=\"aws\",\n",
    "        region=\"us-east-1\",\n",
    "        embed={\n",
    "            \"model\":\"llama-text-embed-v2\",\n",
    "            \"field_map\":{\"text\": \"chunk_text\"}\n",
    "        }\n",
    "    )"
   ]
  },
  {
   "cell_type": "code",
   "execution_count": 11,
   "metadata": {},
   "outputs": [],
   "source": [
    "# records = [\n",
    "#     { \"_id\": \"rec1\", \"chunk_text\": \"The Eiffel Tower was completed in 1889 and stands in Paris, France.\", \"category\": \"history\" },\n",
    "#     { \"_id\": \"rec2\", \"chunk_text\": \"Photosynthesis allows plants to convert sunlight into energy.\", \"category\": \"science\" },\n",
    "#     { \"_id\": \"rec3\", \"chunk_text\": \"Albert Einstein developed the theory of relativity.\", \"category\": \"science\" },\n",
    "#     { \"_id\": \"rec4\", \"chunk_text\": \"The mitochondrion is often called the powerhouse of the cell.\", \"category\": \"biology\" },\n",
    "#     { \"_id\": \"rec5\", \"chunk_text\": \"Shakespeare wrote many famous plays, including Hamlet and Macbeth.\", \"category\": \"literature\" },\n",
    "#     { \"_id\": \"rec6\", \"chunk_text\": \"Water boils at 100°C under standard atmospheric pressure.\", \"category\": \"physics\" },\n",
    "#     { \"_id\": \"rec7\", \"chunk_text\": \"The Great Wall of China was built to protect against invasions.\", \"category\": \"history\" },\n",
    "#     { \"_id\": \"rec8\", \"chunk_text\": \"Honey never spoils due to its low moisture content and acidity.\", \"category\": \"food science\" },\n",
    "#     { \"_id\": \"rec9\", \"chunk_text\": \"The speed of light in a vacuum is approximately 299,792 km/s.\", \"category\": \"physics\" },\n",
    "#     { \"_id\": \"rec10\", \"chunk_text\": \"Newton's laws describe the motion of objects.\", \"category\": \"physics\" },\n",
    "#     { \"_id\": \"rec11\", \"chunk_text\": \"The human brain has approximately 86 billion neurons.\", \"category\": \"biology\" },\n",
    "#     { \"_id\": \"rec12\", \"chunk_text\": \"The Amazon Rainforest is one of the most biodiverse places on Earth.\", \"category\": \"geography\" },\n",
    "#     { \"_id\": \"rec13\", \"chunk_text\": \"Black holes have gravitational fields so strong that not even light can escape.\", \"category\": \"astronomy\" },\n",
    "#     { \"_id\": \"rec14\", \"chunk_text\": \"The periodic table organizes elements based on their atomic number.\", \"category\": \"chemistry\" },\n",
    "#     { \"_id\": \"rec15\", \"chunk_text\": \"Leonardo da Vinci painted the Mona Lisa.\", \"category\": \"art\" },\n",
    "#     { \"_id\": \"rec16\", \"chunk_text\": \"The internet revolutionized communication and information sharing.\", \"category\": \"technology\" },\n",
    "#     { \"_id\": \"rec17\", \"chunk_text\": \"The Pyramids of Giza are among the Seven Wonders of the Ancient World.\", \"category\": \"history\" },\n",
    "#     { \"_id\": \"rec18\", \"chunk_text\": \"Dogs have an incredible sense of smell, much stronger than humans.\", \"category\": \"biology\" },\n",
    "#     { \"_id\": \"rec19\", \"chunk_text\": \"The Pacific Ocean is the largest and deepest ocean on Earth.\", \"category\": \"geography\" },\n",
    "#     { \"_id\": \"rec20\", \"chunk_text\": \"Chess is a strategic game that originated in India.\", \"category\": \"games\" },\n",
    "#     { \"_id\": \"rec21\", \"chunk_text\": \"The Statue of Liberty was a gift from France to the United States.\", \"category\": \"history\" },\n",
    "#     { \"_id\": \"rec22\", \"chunk_text\": \"Coffee contains caffeine, a natural stimulant.\", \"category\": \"food science\" },\n",
    "#     { \"_id\": \"rec23\", \"chunk_text\": \"Thomas Edison invented the practical electric light bulb.\", \"category\": \"inventions\" },\n",
    "#     { \"_id\": \"rec24\", \"chunk_text\": \"The moon influences ocean tides due to gravitational pull.\", \"category\": \"astronomy\" },\n",
    "#     { \"_id\": \"rec25\", \"chunk_text\": \"DNA carries genetic information for all living organisms.\", \"category\": \"biology\" },\n",
    "#     { \"_id\": \"rec26\", \"chunk_text\": \"Rome was once the center of a vast empire.\", \"category\": \"history\" },\n",
    "#     { \"_id\": \"rec27\", \"chunk_text\": \"The Wright brothers pioneered human flight in 1903.\", \"category\": \"inventions\" },\n",
    "#     { \"_id\": \"rec28\", \"chunk_text\": \"Bananas are a good source of potassium.\", \"category\": \"nutrition\" },\n",
    "#     { \"_id\": \"rec29\", \"chunk_text\": \"The stock market fluctuates based on supply and demand.\", \"category\": \"economics\" },\n",
    "#     { \"_id\": \"rec30\", \"chunk_text\": \"A compass needle points toward the magnetic north pole.\", \"category\": \"navigation\" },\n",
    "#     { \"_id\": \"rec31\", \"chunk_text\": \"The universe is expanding, according to the Big Bang theory.\", \"category\": \"astronomy\" },\n",
    "#     { \"_id\": \"rec32\", \"chunk_text\": \"Elephants have excellent memory and strong social bonds.\", \"category\": \"biology\" },\n",
    "#     { \"_id\": \"rec33\", \"chunk_text\": \"The violin is a string instrument commonly used in orchestras.\", \"category\": \"music\" },\n",
    "#     { \"_id\": \"rec34\", \"chunk_text\": \"The heart pumps blood throughout the human body.\", \"category\": \"biology\" },\n",
    "#     { \"_id\": \"rec35\", \"chunk_text\": \"Ice cream melts when exposed to heat.\", \"category\": \"food science\" },\n",
    "#     { \"_id\": \"rec36\", \"chunk_text\": \"Solar panels convert sunlight into electricity.\", \"category\": \"technology\" },\n",
    "#     { \"_id\": \"rec37\", \"chunk_text\": \"The French Revolution began in 1789.\", \"category\": \"history\" },\n",
    "#     { \"_id\": \"rec38\", \"chunk_text\": \"The Taj Mahal is a mausoleum built by Emperor Shah Jahan.\", \"category\": \"history\" },\n",
    "#     { \"_id\": \"rec39\", \"chunk_text\": \"Rainbows are caused by light refracting through water droplets.\", \"category\": \"physics\" },\n",
    "#     { \"_id\": \"rec40\", \"chunk_text\": \"Mount Everest is the tallest mountain in the world.\", \"category\": \"geography\" },\n",
    "#     { \"_id\": \"rec41\", \"chunk_text\": \"Octopuses are highly intelligent marine creatures.\", \"category\": \"biology\" },\n",
    "#     { \"_id\": \"rec42\", \"chunk_text\": \"The speed of sound is around 343 meters per second in air.\", \"category\": \"physics\" },\n",
    "#     { \"_id\": \"rec43\", \"chunk_text\": \"Gravity keeps planets in orbit around the sun.\", \"category\": \"astronomy\" },\n",
    "#     { \"_id\": \"rec44\", \"chunk_text\": \"The Mediterranean diet is considered one of the healthiest in the world.\", \"category\": \"nutrition\" },\n",
    "#     { \"_id\": \"rec45\", \"chunk_text\": \"A haiku is a traditional Japanese poem with a 5-7-5 syllable structure.\", \"category\": \"literature\" },\n",
    "#     { \"_id\": \"rec46\", \"chunk_text\": \"The human body is made up of about 60% water.\", \"category\": \"biology\" },\n",
    "#     { \"_id\": \"rec47\", \"chunk_text\": \"The Industrial Revolution transformed manufacturing and transportation.\", \"category\": \"history\" },\n",
    "#     { \"_id\": \"rec48\", \"chunk_text\": \"Vincent van Gogh painted Starry Night.\", \"category\": \"art\" },\n",
    "#     { \"_id\": \"rec49\", \"chunk_text\": \"Airplanes fly due to the principles of lift and aerodynamics.\", \"category\": \"physics\" },\n",
    "#     { \"_id\": \"rec50\", \"chunk_text\": \"Renewable energy sources include wind, solar, and hydroelectric power.\", \"category\": \"energy\" }\n",
    "# ]"
   ]
  },
  {
   "cell_type": "code",
   "execution_count": 12,
   "metadata": {},
   "outputs": [],
   "source": [
    "# Target the index\n",
    "dense_index = pc.Index(index_name)\n",
    "\n",
    "# Upsert\n",
    "dense_index.upsert_records(\"example-namespace\", records)"
   ]
  },
  {
   "cell_type": "code",
   "execution_count": 87,
   "metadata": {},
   "outputs": [
    {
     "data": {
      "text/plain": [
       "{\n",
       "    \"name\": \"paper-chunks\",\n",
       "    \"metric\": \"cosine\",\n",
       "    \"host\": \"paper-chunks-mgtftuw.svc.aped-4627-b74a.pinecone.io\",\n",
       "    \"spec\": {\n",
       "        \"serverless\": {\n",
       "            \"cloud\": \"aws\",\n",
       "            \"region\": \"us-east-1\"\n",
       "        }\n",
       "    },\n",
       "    \"status\": {\n",
       "        \"ready\": true,\n",
       "        \"state\": \"Ready\"\n",
       "    },\n",
       "    \"vector_type\": \"dense\",\n",
       "    \"dimension\": 1024,\n",
       "    \"deletion_protection\": \"disabled\",\n",
       "    \"tags\": null,\n",
       "    \"embed\": {\n",
       "        \"model\": \"llama-text-embed-v2\",\n",
       "        \"field_map\": {\n",
       "            \"text\": \"chunk_text\"\n",
       "        },\n",
       "        \"dimension\": 1024,\n",
       "        \"metric\": \"cosine\",\n",
       "        \"write_parameters\": {\n",
       "            \"dimension\": 1024.0,\n",
       "            \"input_type\": \"passage\",\n",
       "            \"truncate\": \"END\"\n",
       "        },\n",
       "        \"read_parameters\": {\n",
       "            \"dimension\": 1024.0,\n",
       "            \"input_type\": \"query\",\n",
       "            \"truncate\": \"END\"\n",
       "        },\n",
       "        \"vector_type\": \"dense\"\n",
       "    }\n",
       "}"
      ]
     },
     "execution_count": 87,
     "metadata": {},
     "output_type": "execute_result"
    }
   ],
   "source": [
    "pc.describe_index(name=\"paper-chunks\")"
   ]
  },
  {
   "cell_type": "code",
   "execution_count": 86,
   "metadata": {},
   "outputs": [
    {
     "name": "stdout",
     "output_type": "stream",
     "text": [
      "{'dimension': 1024,\n",
      " 'index_fullness': 0.0,\n",
      " 'metric': 'cosine',\n",
      " 'namespaces': {'example-namespace': {'vector_count': 50}},\n",
      " 'total_vector_count': 50,\n",
      " 'vector_type': 'dense'}\n"
     ]
    }
   ],
   "source": [
    "stats = dense_index.describe_index_stats()\n",
    "print(stats)"
   ]
  },
  {
   "cell_type": "code",
   "execution_count": 14,
   "metadata": {},
   "outputs": [
    {
     "name": "stdout",
     "output_type": "stream",
     "text": [
      "id: rec32 | score: 0.41  | category: biology    | text: Elephants have excellent memory and strong social bonds.\n",
      "id: rec41 | score: 0.14  | category: biology    | text: Octopuses are highly intelligent marine creatures.\n",
      "id: rec18 | score: 0.11  | category: biology    | text: Dogs have an incredible sense of smell, much stronger than humans.\n",
      "id: rec10 | score: 0.09  | category: physics    | text: Newton's laws describe the motion of objects.     \n",
      "id: rec25 | score: 0.09  | category: biology    | text: DNA carries genetic information for all living organisms.\n",
      "id: rec26 | score: 0.08  | category: history    | text: Rome was once the center of a vast empire.        \n",
      "id: rec43 | score: 0.08  | category: astronomy  | text: Gravity keeps planets in orbit around the sun.    \n",
      "id: rec34 | score: 0.07  | category: biology    | text: The heart pumps blood throughout the human body.  \n",
      "id: rec45 | score: 0.07  | category: literature | text: A haiku is a traditional Japanese poem with a 5-7-5 syllable structure.\n",
      "id: rec13 | score: 0.06  | category: astronomy  | text: Black holes have gravitational fields so strong that not even light can escape.\n"
     ]
    }
   ],
   "source": [
    "query = \"Tell me about elephants\"\n",
    "\n",
    "results = dense_index.search(\n",
    "    namespace=\"example-namespace\",\n",
    "    query={\n",
    "        \"top_k\": 10,\n",
    "        \"inputs\": {\n",
    "            'text': query\n",
    "        }\n",
    "    }\n",
    ")\n",
    "\n",
    "for hit in results['result']['hits']:\n",
    "    print(f\"id: {hit['_id']:<5} | score: {round(hit['_score'], 2):<5} | category: {hit['fields']['category']:<10} | text: {hit['fields']['chunk_text']:<50}\")\n"
   ]
  },
  {
   "cell_type": "code",
   "execution_count": 72,
   "metadata": {},
   "outputs": [
    {
     "name": "stdout",
     "output_type": "stream",
     "text": [
      "pdf_filename = 'Rejhon_2017_Semicond_Sci_Technol_32_085007'\n",
      "--------------------------------\n",
      "chunk_id: 039a9c10-c01f-46c8-b4df-5585bd774a70\n",
      "text: To cite this article: M Rejhon *et al* 2017 *Semicond. Sci. Technol.* **32** 085007\n",
      "chunk_type: text\n",
      "grounding: [{'page': 0, 'box': {'l': 0.061900362372398376, 't': 0.24097181856632233, 'r': 0.5179111957550049, 'b': 0.2582275867462158}, 'image_path': None}]\n",
      "--------------------------------\n",
      "chunk_id: 7a76ba52-1bec-4aee-aefd-0c43254bf2c1\n",
      "text: View the article online for updates and enhancements.\n",
      "chunk_type: text\n",
      "grounding: [{'page': 0, 'box': {'l': 0.06117004156112671, 't': 0.29624274373054504, 'r': 0.39271092414855957, 'b': 0.31333938241004944}, 'image_path': None}]\n",
      "--------------------------------\n",
      "chunk_id: 72c555aa-4ec7-4126-82b7-5beda068fc5b\n",
      "text: You may also like\n",
      "\n",
      "- Antimonide-based high operating temperature infrared photodetectors and focal plane arrays: a review and outlook  \n",
      "Chunyang Jia, Gongrong Deng, Lining Liu et al.\n",
      "\n",
      "- From wide to ultrawide-bandgap semiconductors for high power and high frequency electronic devices  \n",
      "Kelly Woo, Zhengliang Bian, Maliha Noshin et al.\n",
      "\n",
      "- Investigation of surface leakage current in MWIR HgCdTe and InAsSb barrier detectors  \n",
      "M Kopytko, E Gomóka, K Michalczewski et al.\n",
      "chunk_type: text\n",
      "grounding: [{'page': 0, 'box': {'l': 0.6728450059890747, 't': 0.13028615713119507, 'r': 0.9389117956161499, 'b': 0.32120460271835327}, 'image_path': None}]\n"
     ]
    }
   ],
   "source": [
    "import json\n",
    "from pathlib import Path\n",
    "\n",
    "dir_path= Path(\"C:/Users/johnk/Projects-code/LEARN/landing-ai/app_storage/parsed_docs_json\")\n",
    "file = \"Rejhon_2017_Semicond_Sci_Technol_32_085007.json\"\n",
    "parsed_docs_json_path = dir_path / file\n",
    "pdf_filename = parsed_docs_json_path.stem\n",
    "print(f\"{pdf_filename = }\")\n",
    "\n",
    "with open(parsed_docs_json_path, \"r\") as f:\n",
    "    parsed_doc_json = json.load(f)\n",
    "\n",
    "for chunk in parsed_doc_json[\"chunks\"][3:6]:\n",
    "    print(\"--------------------------------\")\n",
    "    print(f\"chunk_id: {chunk['chunk_id']}\")\n",
    "    print(f\"text: {chunk['text']}\")\n",
    "    print(f\"chunk_type: {chunk['chunk_type']}\")\n",
    "    print(f\"grounding: {chunk['grounding']}\")\n",
    "\n",
    "\n"
   ]
  },
  {
   "cell_type": "markdown",
   "metadata": {},
   "source": [
    "## Pinecone Index on Parsed PDF"
   ]
  },
  {
   "cell_type": "code",
   "execution_count": 25,
   "metadata": {},
   "outputs": [],
   "source": [
    "# Create records from the JSON chunks\n",
    "\n",
    "new_index_name = \"paper-chunks\"\n",
    "# Check if index exists, if not create it\n",
    "if not pc.has_index(new_index_name):\n",
    "    pc.create_index_for_model(\n",
    "        name=new_index_name,\n",
    "        cloud=\"aws\",\n",
    "        region=\"us-east-1\",\n",
    "        embed={\n",
    "            \"model\":\"llama-text-embed-v2\",\n",
    "            \"field_map\":{\"text\": \"chunk_text\"}\n",
    "        }\n",
    "    )\n"
   ]
  },
  {
   "cell_type": "code",
   "execution_count": 82,
   "metadata": {},
   "outputs": [
    {
     "name": "stdout",
     "output_type": "stream",
     "text": [
      "{\"l\": 0.06117004156112671, \"t\": 0.29624274373054504, \"r\": 0.39271092414855957, \"b\": 0.31333938241004944}\n"
     ]
    }
   ],
   "source": [
    "def json_to_string(json_obj):\n",
    "    \"\"\"Convert a Python dictionary to a string representation.\n",
    "    \n",
    "    Args:\n",
    "        json_obj: Python dictionary to convert\n",
    "        \n",
    "    Returns:\n",
    "        String representation of the dictionary\n",
    "    \"\"\"\n",
    "    if isinstance(json_obj, dict):\n",
    "        return json.dumps(json_obj)\n",
    "    return str(json_obj)\n",
    "    \n",
    "\n",
    "records = []\n",
    "for chunk in parsed_doc_json[\"chunks\"]:\n",
    "    record = {\n",
    "        \"_id\": chunk[\"chunk_id\"],\n",
    "        \"chunk_text\": chunk[\"text\"],\n",
    "        \"chunk_type\": chunk[\"chunk_type\"],\n",
    "        \"pdf_filename\": pdf_filename,\n",
    "        \"pdf_page\": chunk[\"grounding\"][0][\"page\"],\n",
    "        \"box\": json_to_string(chunk[\"grounding\"][0][\"box\"])\n",
    "    }\n",
    "    \n",
    "    records.append(record)\n",
    "print(records[4][\"box\"])\n"
   ]
  },
  {
   "cell_type": "code",
   "execution_count": 71,
   "metadata": {},
   "outputs": [],
   "source": [
    "paper_index = pc.Index(new_index_name)\n",
    "# Delete all vectors in the index\n",
    "# paper_index.delete_all()\n"
   ]
  },
  {
   "cell_type": "code",
   "execution_count": 83,
   "metadata": {},
   "outputs": [
    {
     "name": "stdout",
     "output_type": "stream",
     "text": [
      "{'dimension': 1024,\n",
      " 'index_fullness': 0.0,\n",
      " 'metric': 'cosine',\n",
      " 'namespaces': {'paper-namespace': {'vector_count': 86}},\n",
      " 'total_vector_count': 86,\n",
      " 'vector_type': 'dense'}\n"
     ]
    }
   ],
   "source": [
    "\n",
    "# Create a new index for the paper\n",
    "paper_index = pc.Index(new_index_name)\n",
    "\n",
    "# Upsert the records into the index\n",
    "paper_index.upsert_records(filename, records)\n",
    "\n",
    "# Verify the index stats\n",
    "stats = paper_index.describe_index_stats()\n",
    "print(stats)\n"
   ]
  },
  {
   "cell_type": "code",
   "execution_count": 31,
   "metadata": {},
   "outputs": [],
   "source": [
    "questions = [\"What is the experimental setup?\", \n",
    "             \"What is the main result?\", \n",
    "             \"What is the conclusion?\",\n",
    "             \"How is Schottky barrier formed?\",\n",
    "             \"How is Schottky barrier height measured?\",\n",
    "             \"How is Te02 thickness measured?\",\n",
    "             \"How does Te02 thickness the performance of the detector?\"]\n",
    "\n"
   ]
  },
  {
   "cell_type": "code",
   "execution_count": 85,
   "metadata": {},
   "outputs": [
    {
     "name": "stdout",
     "output_type": "stream",
     "text": [
      "Answer the question based on the context below.\n",
      "Context:\n",
      "The moon is a big ball of rock and dust.\n",
      "\n",
      "Question: How big is the moon?\n",
      "Answer:\n"
     ]
    }
   ],
   "source": [
    "from PROMPTS.prompts import ANSWER_WITH_CONTEXT\n",
    "\n",
    "print(ANSWER_WITH_CONTEXT.prompt_text.\n",
    "      format(context=\"The moon is a big ball of rock and dust.\", question=\"How big is the moon?\"))\n",
    "\n"
   ]
  },
  {
   "cell_type": "code",
   "execution_count": 64,
   "metadata": {},
   "outputs": [],
   "source": [
    "from dotenv import load_dotenv\n",
    "import os\n",
    "load_dotenv()\n",
    "\n",
    "openai_api_key = os.getenv('OPENAI_API_KEY')\n",
    "# print(openai_api_key)\n",
    "\n",
    "def create_embedding(query):\n",
    "    from openai import OpenAI\n",
    "\n",
    "    # Instantiate the OpenAI client\n",
    "    client = OpenAI(api_key=openai_api_key)\n",
    "\n",
    "    # Create an embedding\n",
    "    res = client.embeddings.create(\n",
    "      model=\"text-embedding-ada-002\",\n",
    "      input=[query],\n",
    "    )\n",
    "    return res.data[0].embedding\n",
    "\n",
    "\n",
    "def retrieve_contexts(query, index, top_k=2):\n",
    "    context_limit = 10000\n",
    "    search_results = index.search(\n",
    "        namespace = \"Rejhon_2017_Semicond_Sci_Technol_32_085007\",\n",
    "        query={\n",
    "            \"top_k\": top_k,\n",
    "            \"inputs\": {\n",
    "                'text': query\n",
    "            }\n",
    "        }\n",
    "    )\n",
    "\n",
    "    chunk_ids = [hit['_id'] for hit in search_results['result']['hits']]\n",
    "    metadata_list = [hit['fields'] for hit in search_results['result']['hits']]\n",
    "    return chunk_ids, metadata_list\n",
    "\n",
    "def retrieval_augmented_prompt(query, index, top_k=2):\n",
    "    chunk_ids, metadata_list = retrieve_contexts(query, index, top_k)\n",
    "    \n",
    "    prompt_start = (\n",
    "        \"Answer the question based on the context below.\\n\\n\"+\n",
    "        \"Context:\\n\"\n",
    "    )\n",
    "    prompt_end = (\n",
    "        f\"\\n\\nQuestion: {query}\\nAnswer:\"\n",
    "    )\n",
    "    context_separator = \"\\n\\n---\\n\\n\"\n",
    "\n",
    "    # Join contexts and trim to fit within limit\n",
    "    context_limit = 10000\n",
    "    combined_contexts = []\n",
    "    total_length = 0\n",
    "    \n",
    "    for context in contexts:\n",
    "        new_length = total_length + len(context) + len(context_separator)\n",
    "        if new_length >= context_limit:\n",
    "            break\n",
    "        combined_contexts.append(context)\n",
    "        total_length = new_length\n",
    "        \n",
    "    prompt_with_context = prompt_start + context_separator.join(combined_contexts) + prompt_end\n",
    "    \n",
    "    return prompt_with_context, chunk_ids"
   ]
  },
  {
   "cell_type": "code",
   "execution_count": 65,
   "metadata": {},
   "outputs": [
    {
     "name": "stdout",
     "output_type": "stream",
     "text": [
      "Prompt with context: Answer the question based on the context below.\n",
      "\n",
      "Context:\n",
      "Summary : This figure shows the electrical measurement setup for recording current–voltage (I–V) characteristics of a sample using a central electrode and a guard ring (GR) configuration.\n",
      "\n",
      "schematic diagram:\n",
      "# Components :\n",
      "  • Central Electrode (labelled, with a width of 0.4 mm).\n",
      "  • Guard Ring (GR) electrode adjacent to the central electrode.\n",
      "  • Gold (Au) contact layer on the top surface.\n",
      "  • Sample block (unlabeled material).\n",
      "  • Indium (In) planar electrode at the bottom.\n",
      "  • Electrical connections for measuring currents.\n",
      "\n",
      "# Electrical Connections :\n",
      "  • IB: Current through the central electrode.\n",
      "  • IGR: Current through the guard ring.\n",
      "  • ITOT = IB + IGR: Total current measured.\n",
      "  • All electrodes are connected to a voltage source for I–V measurement.\n",
      "\n",
      "# Labels & Annotations :\n",
      "  • All electrodes and materials are clearly labelled (Au, In, GR, Central Electrode, Planar Electrode, SAMPLE).\n",
      "  • The width of the central electrode is specified as 0.4 mm.\n",
      "  • Arrows indicate the direction of current flow and measurement points.\n",
      "\n",
      "# Layout :\n",
      "  • Cross-sectional side view.\n",
      "  • Central electrode and guard ring are on the top surface, separated by a small gap.\n",
      "  • Planar electrode covers the entire bottom surface.\n",
      "  • Electrical measurement circuit is shown to the right.\n",
      "\n",
      "Analysis :\n",
      "  • The schematic illustrates a measurement configuration designed to separate the current contributions from the central electrode and the guard ring, allowing for accurate I–V characterization of the sample. The use of a guard ring helps to minimize edge leakage currents, ensuring that IB represents the true current through the central region.\n",
      "\n",
      "---\n",
      "\n",
      "2. Experiment\n",
      "\n",
      "The samples investigated in the study were the detector-grade materials CdTe:In and CdTe:Cl. Their fundamental properties are listed in table 1. The samples’ resistivity was evaluated from I–V curves around 0 V after contact deposition. Gold and Indium were deposited on large opposite sides by evaporation. In this configuration, gold electrode blocks electrons and indium electrode blocks holes, while acting as cathode and anode, respectively. This polarity and high resistivity guarantee a low dark current. The assumed band bending of the Au/CdTe/In structure at 0 V, based on our previous analysis [10], is a negligible bending at the Au/CdTe and In/ CdTe interfaces. The cathode contact was equipped with a guard ring to separate bulk and surface leakage currents during electrical measurements (figure 1). The surfaces were mechanically polished with Al2O3 abrasive (surface RMS 2 nm), without any further chemical treatment. The samples’ n-type conductivity was determined by thermoelectric power measurements [11]. In CdTe:In, the measurement gave a clear signal which referred to n-type conductivity. The CdTe:Cl conductivity measurement had a weak n-type signal, which corresponds to a position of the Fermi level close to the midgap.\n",
      "\n",
      "---\n",
      "\n",
      "Summary : This figure presents the dependence of the natural logarithm of current (ln(I)) on the fourth root of voltage (U^{1/4}) for CdTe:Cl and CdTe:In samples, with annealing temperature as a parameter.\n",
      "\n",
      "scatter plot:  \n",
      "\n",
      "# Title & Axes :  \n",
      "  • Title: \"Dependence of ln(I) versus U^{1/4} for the CdTe:Cl sample with annealing temperature as a parameter.\"  \n",
      "  • Left panel: \"CdTe:Cl\"; Right panel: \"CdTe:In\".  \n",
      "  • X-axis label: \"[Voltage]^{1/4} (V^{1/4})\"  \n",
      "    – CdTe:Cl: range 2.6 to 3.8  \n",
      "    – CdTe:In: range 3.0 to 5.0  \n",
      "  • Y-axis label: \"ln(Current) (A)\"  \n",
      "    – Range: -14.0 to -11.0 (CdTe:Cl), -13.0 to -11.0 (CdTe:In)  \n",
      "  • Tick labels:  \n",
      "    – X-axis: increments of 0.2 (CdTe:Cl: 2.6, 2.8, 3.0, 3.2, 3.4, 3.6, 3.8; CdTe:In: 3.0, 3.5, 4.0, 4.5, 5.0)  \n",
      "    – Y-axis: increments of 0.5  \n",
      "\n",
      "# Data Points :  \n",
      "  • Each panel contains five series, corresponding to different annealing temperatures:  \n",
      "    – 313K (black squares)  \n",
      "    – 343K (red circles)  \n",
      "    – 353K (blue upward triangles)  \n",
      "    – 363K (cyan downward triangles)  \n",
      "    – 373K (magenta diamonds)  \n",
      "  • For each series, data points are plotted along with fitted lines.  \n",
      "  • Data values are not explicitly listed, but each series shows a set of points forming a roughly linear trend in each panel.  \n",
      "\n",
      "# Design Encodings :  \n",
      "  • Marker shapes:  \n",
      "    – 313K: black squares  \n",
      "    – 343K: red circles  \n",
      "    – 353K: blue upward triangles  \n",
      "    – 363K: cyan downward triangles  \n",
      "    – 373K: magenta diamonds  \n",
      "  • Fitted lines: solid lines matching the marker colour for each series.  \n",
      "  • Two separate panels for CdTe:Cl (left) and CdTe:In (right).  \n",
      "  • Legend in each panel, upper left, listing temperature and marker/colour.  \n",
      "\n",
      "# Distribution & Trends :  \n",
      "  • In both panels, all series show a positive linear relationship between ln(Current) and [Voltage]^{1/4}.  \n",
      "  • For both CdTe:Cl and CdTe:In, as the annealing temperature increases (from 313K to 373K), the series shift downward (lower ln(Current) at a given [Voltage]^{1/4}).  \n",
      "  • The spread between series is roughly parallel, indicating similar slopes but different intercepts.  \n",
      "  • The CdTe:In panel is shifted to higher [Voltage]^{1/4} values compared to CdTe:Cl.  \n",
      "\n",
      "# Analysis :  \n",
      "  • Both CdTe:Cl and CdTe:In samples exhibit a linear increase of ln(Current) with [Voltage]^{1/4}, consistent with a Poole-Frenkel or Schottky emission mechanism.  \n",
      "  • Higher annealing temperatures result in lower current at a given voltage, as shown by the downward shift of the series with increasing temperature.  \n",
      "  • The parallel nature of the lines suggests that the temperature primarily affects the intercept (pre-exponential factor or barrier height), not the slope (field dependence).  \n",
      "  • The CdTe:In sample requires higher voltages to reach similar ln(Current) values compared to CdTe:Cl, indicating possible differences in conduction mechanisms or barrier properties between the two dopants.\n",
      "\n",
      "Question: What is the experimental setup?\n",
      "Answer:\n",
      "Chunk IDs: ['53a81000-4620-4a19-970d-dadddeab234e', '4af6ca9f-69d6-4b21-8dc2-876239e72047', 'a5a27e05-e3a5-4441-a17c-440a28a0da9e']\n"
     ]
    }
   ],
   "source": [
    "prompt_with_context, chunk_ids = retrieval_augmented_prompt(\n",
    "    \"What is the experimental setup?\", \n",
    "    index = pc.Index(\"paper-chunks\"))\n",
    "print(f'Prompt with context: {prompt_with_context}')\n",
    "print(f'Chunk IDs: {chunk_ids}')"
   ]
  },
  {
   "cell_type": "code",
   "execution_count": 59,
   "metadata": {},
   "outputs": [
    {
     "data": {
      "text/plain": [
       "\"The experimental setup involves a central electrode and a guard ring configuration for recording current–voltage (I–V) characteristics of samples, specifically CdTe:In and CdTe:Cl. The setup includes:\\n\\n1. **Electrodes**:\\n   - A central electrode (0.4 mm wide) and a guard ring (GR) adjacent to it.\\n   - A gold (Au) contact layer on the top surface and an indium (In) planar electrode at the bottom.\\n\\n2. **Electrical Connections**:\\n   - Measurement of currents through the central electrode (IB) and the guard ring (IGR), with the total current (ITOT) being the sum of these two.\\n   - All electrodes are connected to a voltage source for I–V measurements.\\n\\n3. **Sample Preparation**:\\n   - The samples were prepared by depositing gold and indium on opposite sides, with the gold acting as a cathode and indium as an anode.\\n   - The surfaces were polished mechanically without further chemical treatment.\\n\\n4. **Measurement Method**:\\n   - The resistivity of the samples was evaluated from I–V curves around 0 V after contact deposition.\\n   - A guard ring was used to minimize edge leakage currents during measurements.\\n\\nThis configuration allows for accurate characterization of the samples' electrical properties while separating contributions from different current paths.\""
      ]
     },
     "execution_count": 59,
     "metadata": {},
     "output_type": "execute_result"
    }
   ],
   "source": [
    "from openai import OpenAI\n",
    "import os\n",
    "import pinecone\n",
    "\n",
    "def chat_response(prompt):\n",
    "    client = OpenAI(api_key=os.getenv('OPENAI_API_KEY'))\n",
    "    system_prompt = \"You are a helpful assistant that always answers questions.\"\n",
    "    \n",
    "    response = client.responses.create(\n",
    "        model=\"gpt-4o-mini\",\n",
    "        instructions=system_prompt,\n",
    "        input=prompt,\n",
    "        temperature=0.2\n",
    "    )\n",
    "    return response.output_text\n",
    "\n",
    "def rag_response(query, index):\n",
    "    prompt_with_context = retrieval_augmented_prompt(\n",
    "        query, \n",
    "        index = index)\n",
    "    return chat_response(prompt_with_context)\n",
    "\n",
    "rag_response(\"What is the experimental setup?\", pc.Index(\"paper-chunks\"))\n",
    "    "
   ]
  },
  {
   "cell_type": "code",
   "execution_count": 63,
   "metadata": {},
   "outputs": [
    {
     "name": "stdout",
     "output_type": "stream",
     "text": [
      "Question: What is the experimental setup?\n",
      "Answer: The experimental setup involves a central electrode and a guard ring configuration for recording current–voltage (I–V) characteristics of the samples, specifically CdTe:In and CdTe:Cl. The setup includes:\n",
      "\n",
      "- **Central Electrode**: A 0.4 mm wide electrode that measures the current through the central region of the sample.\n",
      "- **Guard Ring (GR)**: An electrode adjacent to the central electrode that helps minimize edge leakage currents.\n",
      "- **Gold (Au) Contact Layer**: Deposited on the top surface of the sample, acting as a cathode that blocks electrons.\n",
      "- **Indium (In) Planar Electrode**: Located at the bottom, acting as an anode that blocks holes.\n",
      "- **Sample Block**: The material being tested, which is positioned between the electrodes.\n",
      "- **Electrical Connections**: For measuring currents, including the total current (ITOT) which is the sum of the currents through the central electrode (IB) and the guard ring (IGR).\n",
      "\n",
      "The setup is designed to accurately characterize the I–V properties of the samples while separating the contributions from the central electrode and guard ring. The measurements are conducted by applying a voltage source to the electrodes and recording the resulting currents.\n",
      "--------------------------------\n",
      "Question: What is the main result of the paper?\n",
      "Answer: The context provided does not include specific details about the main results of the paper. It only mentions the financial support, authors, and references. To determine the main result, one would need to read the full paper itself.\n",
      "--------------------------------\n",
      "Question: What is the conclusion of the paper?\n",
      "Answer: The conclusion of the paper is that the total current for both CdTe:Cl and CdTe:In decreases with increasing annealing temperature, but CdTe:Cl exhibits a much steeper decline, particularly above 340 K, ultimately nearing zero at 370 K. In contrast, CdTe:In shows a more gradual decrease, maintaining over half its initial current at 370 K. This indicates that CdTe:In is more stable and less sensitive to annealing temperature compared to CdTe:Cl, with the divergence between the two becoming significant at higher temperatures.\n",
      "--------------------------------\n",
      "Question: How is Schottky barrier formed?\n",
      "Answer: The Schottky barrier is formed at the interface between a metal and a semiconductor when they are brought into contact. This occurs due to the difference in work function between the metal and the semiconductor, leading to the alignment of their energy bands. When the metal is in contact with the n-type semiconductor, electrons from the semiconductor diffuse into the metal, creating a depletion region in the semiconductor and resulting in a potential barrier known as the Schottky barrier. The height of this barrier is influenced by factors such as the type of semiconductor, the metal used, and external conditions like temperature and electric field.\n",
      "--------------------------------\n",
      "Question: How is Schottky barrier height measured?\n",
      "Answer: The Schottky barrier height is measured using current-voltage (I-V) characteristics, which are analyzed in relation to the applied electric field. The measurements are influenced by factors such as temperature and current measurement errors, as well as the thickness of the material being studied. In this context, the barrier height is determined by observing how it changes with annealing temperature, with data points plotted on a graph and error bars indicating measurement uncertainty.\n",
      "--------------------------------\n",
      "Question: How is Te02 thickness measured?\n",
      "Answer: TeO₂ thickness is measured using variable-angle spectroscopic ellipsometry, specifically with a commercial JA Woollam Co. RC2 ellipsometer. The measurements are taken in reflection mode at three incident angles (55°, 60°, and 65°) and analyzed using CompleteEASE software, applying predefined models for TeO₂ from the Woollam database.\n",
      "--------------------------------\n",
      "Question: How does Te02 thickness the performance of the detector?\n",
      "Answer: The thickness of TeO₂ can significantly impact the performance of the detector by influencing factors such as surface roughness, charge collection efficiency, and overall material quality. In the context of the provided data, as the thickness of TeO₂ varies, it is associated with changes in the percentage of tellurium and surface roughness, which can affect the electrical properties of the CdTe:In material.\n",
      "\n",
      "1. **Surface Quality**: Increased TeO₂ thickness may lead to higher surface roughness, which can introduce additional scattering and trapping sites for charge carriers, potentially degrading the detector's performance.\n",
      "\n",
      "2. **Charge Carrier Dynamics**: The presence of TeO₂ can influence the trapping and recombination kinetics of free carriers. A thicker layer may alter the electric field distribution at the surface, affecting how efficiently charge carriers are collected.\n",
      "\n",
      "3. **Material Stability**: Variations in TeO₂ thickness can also affect the stability of the detector material under operational conditions, impacting long-term performance and reliability.\n",
      "\n",
      "Overall, optimizing TeO₂ thickness is crucial for achieving the best detector performance, balancing surface quality and charge carrier dynamics to minimize noise and maximize signal integrity.\n",
      "--------------------------------\n"
     ]
    }
   ],
   "source": [
    "questions = [\"What is the experimental setup?\", \n",
    "             \"What is the main result of the paper?\", \n",
    "             \"What is the conclusion of the paper?\",\n",
    "             \"How is Schottky barrier formed?\",\n",
    "             \"How is Schottky barrier height measured?\",\n",
    "             \"How is Te02 thickness measured?\",\n",
    "             \"How does Te02 thickness the performance of the detector?\"]\n",
    "\n",
    "for question in questions:\n",
    "    print(f'Question: {question}')\n",
    "    print(f'Answer: {rag_response(question, pc.Index(\"paper-chunks\"))}')\n",
    "    print('--------------------------------')"
   ]
  },
  {
   "cell_type": "code",
   "execution_count": null,
   "metadata": {},
   "outputs": [],
   "source": []
  },
  {
   "cell_type": "code",
   "execution_count": null,
   "metadata": {},
   "outputs": [],
   "source": []
  }
 ],
 "metadata": {
  "kernelspec": {
   "display_name": ".venv",
   "language": "python",
   "name": "python3"
  },
  "language_info": {
   "codemirror_mode": {
    "name": "ipython",
    "version": 3
   },
   "file_extension": ".py",
   "mimetype": "text/x-python",
   "name": "python",
   "nbconvert_exporter": "python",
   "pygments_lexer": "ipython3",
   "version": "3.11.5"
  }
 },
 "nbformat": 4,
 "nbformat_minor": 2
}
